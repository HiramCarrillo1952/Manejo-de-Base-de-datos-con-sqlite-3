{
 "cells": [
  {
   "cell_type": "code",
   "execution_count": 1,
   "id": "8c1bc482",
   "metadata": {},
   "outputs": [],
   "source": [
    "import numpy as np\n",
    "\n",
    "arr = np.array([5,36,17,18,9])\n",
    "\n",
    "arr_2 = np.array([8,24,17,19,9])"
   ]
  },
  {
   "cell_type": "code",
   "execution_count": 2,
   "id": "b7ac21ff",
   "metadata": {},
   "outputs": [
    {
     "data": {
      "text/plain": [
       "array([13, 60, 34, 37, 18])"
      ]
     },
     "execution_count": 2,
     "metadata": {},
     "output_type": "execute_result"
    }
   ],
   "source": [
    "np.add(arr, arr_2)"
   ]
  },
  {
   "cell_type": "code",
   "execution_count": 3,
   "id": "320d1a4c",
   "metadata": {},
   "outputs": [
    {
     "data": {
      "text/plain": [
       "array([-3, 12,  0, -1,  0])"
      ]
     },
     "execution_count": 3,
     "metadata": {},
     "output_type": "execute_result"
    }
   ],
   "source": [
    "np.subtract(arr,arr_2)"
   ]
  },
  {
   "cell_type": "code",
   "execution_count": 4,
   "id": "23d672af",
   "metadata": {},
   "outputs": [
    {
     "data": {
      "text/plain": [
       "array([ 40, 864, 289, 342,  81])"
      ]
     },
     "execution_count": 4,
     "metadata": {},
     "output_type": "execute_result"
    }
   ],
   "source": [
    "np.multiply(arr,arr_2)"
   ]
  },
  {
   "cell_type": "code",
   "execution_count": 5,
   "id": "2fa4b2a9",
   "metadata": {},
   "outputs": [
    {
     "data": {
      "text/plain": [
       "array([0.625     , 1.5       , 1.        , 0.94736842, 1.        ])"
      ]
     },
     "execution_count": 5,
     "metadata": {},
     "output_type": "execute_result"
    }
   ],
   "source": [
    "np.divide(arr,arr_2)"
   ]
  },
  {
   "cell_type": "code",
   "execution_count": 6,
   "id": "fed74b7e",
   "metadata": {},
   "outputs": [
    {
     "data": {
      "text/plain": [
       "False"
      ]
     },
     "execution_count": 6,
     "metadata": {},
     "output_type": "execute_result"
    }
   ],
   "source": [
    "np.array_equal(arr,arr_2)"
   ]
  },
  {
   "cell_type": "code",
   "execution_count": 7,
   "id": "b05a9833",
   "metadata": {},
   "outputs": [
    {
     "data": {
      "text/plain": [
       "array([ 5, 24, 17, 18,  9])"
      ]
     },
     "execution_count": 7,
     "metadata": {},
     "output_type": "execute_result"
    }
   ],
   "source": [
    "np.fmin(arr,arr_2)"
   ]
  },
  {
   "cell_type": "code",
   "execution_count": 8,
   "id": "5f5a0763",
   "metadata": {},
   "outputs": [
    {
     "data": {
      "text/plain": [
       "array([ 8, 36, 17, 19,  9])"
      ]
     },
     "execution_count": 8,
     "metadata": {},
     "output_type": "execute_result"
    }
   ],
   "source": [
    "np.fmax(arr,arr_2)"
   ]
  },
  {
   "cell_type": "code",
   "execution_count": null,
   "id": "82017e21",
   "metadata": {},
   "outputs": [],
   "source": []
  }
 ],
 "metadata": {
  "kernelspec": {
   "display_name": "Python 3",
   "language": "python",
   "name": "python3"
  },
  "language_info": {
   "codemirror_mode": {
    "name": "ipython",
    "version": 3
   },
   "file_extension": ".py",
   "mimetype": "text/x-python",
   "name": "python",
   "nbconvert_exporter": "python",
   "pygments_lexer": "ipython3",
   "version": "3.8.8"
  }
 },
 "nbformat": 4,
 "nbformat_minor": 5
}
