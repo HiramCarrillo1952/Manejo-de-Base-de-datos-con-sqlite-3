{
 "cells": [
  {
   "cell_type": "code",
   "execution_count": 1,
   "id": "3191288b",
   "metadata": {},
   "outputs": [],
   "source": [
    "#As type"
   ]
  },
  {
   "cell_type": "code",
   "execution_count": 2,
   "id": "6d61c82f",
   "metadata": {},
   "outputs": [
    {
     "data": {
      "text/plain": [
       "array([[45, 65, 34, 37],\n",
       "       [20, 38, 74, 11],\n",
       "       [65, 27, 28, 58]])"
      ]
     },
     "execution_count": 2,
     "metadata": {},
     "output_type": "execute_result"
    }
   ],
   "source": [
    "import numpy as np\n",
    "\n",
    "arr_ent = np.random.randint(100, size=(3,4))\n",
    "arr_ent"
   ]
  },
  {
   "cell_type": "code",
   "execution_count": 3,
   "id": "28dda1a9",
   "metadata": {},
   "outputs": [
    {
     "data": {
      "text/plain": [
       "array([[45., 65., 34., 37.],\n",
       "       [20., 38., 74., 11.],\n",
       "       [65., 27., 28., 58.]])"
      ]
     },
     "execution_count": 3,
     "metadata": {},
     "output_type": "execute_result"
    }
   ],
   "source": [
    "arr_ent.astype(float)"
   ]
  },
  {
   "cell_type": "code",
   "execution_count": 4,
   "id": "85703539",
   "metadata": {},
   "outputs": [],
   "source": [
    "#Sort"
   ]
  },
  {
   "cell_type": "code",
   "execution_count": 5,
   "id": "eda0ef19",
   "metadata": {},
   "outputs": [
    {
     "data": {
      "text/plain": [
       "array([[45, 65, 34, 37],\n",
       "       [20, 38, 74, 11],\n",
       "       [65, 27, 28, 58]])"
      ]
     },
     "execution_count": 5,
     "metadata": {},
     "output_type": "execute_result"
    }
   ],
   "source": [
    "arr_ent"
   ]
  },
  {
   "cell_type": "code",
   "execution_count": 6,
   "id": "f6cfc89b",
   "metadata": {},
   "outputs": [
    {
     "data": {
      "text/plain": [
       "array([[34, 37, 45, 65],\n",
       "       [11, 20, 38, 74],\n",
       "       [27, 28, 58, 65]])"
      ]
     },
     "execution_count": 6,
     "metadata": {},
     "output_type": "execute_result"
    }
   ],
   "source": [
    "arr_ent.sort()\n",
    "arr_ent"
   ]
  },
  {
   "cell_type": "code",
   "execution_count": 7,
   "id": "0a3426b4",
   "metadata": {},
   "outputs": [
    {
     "data": {
      "text/plain": [
       "array([[11, 20, 38, 65],\n",
       "       [27, 28, 45, 65],\n",
       "       [34, 37, 58, 74]])"
      ]
     },
     "execution_count": 7,
     "metadata": {},
     "output_type": "execute_result"
    }
   ],
   "source": [
    "arr_ent.sort(axis=0)\n",
    "arr_ent"
   ]
  },
  {
   "cell_type": "code",
   "execution_count": 8,
   "id": "892a0719",
   "metadata": {},
   "outputs": [],
   "source": [
    "#Reshape"
   ]
  },
  {
   "cell_type": "code",
   "execution_count": 9,
   "id": "ec451356",
   "metadata": {},
   "outputs": [
    {
     "data": {
      "text/plain": [
       "array([[11, 20, 38, 65],\n",
       "       [27, 28, 45, 65],\n",
       "       [34, 37, 58, 74]])"
      ]
     },
     "execution_count": 9,
     "metadata": {},
     "output_type": "execute_result"
    }
   ],
   "source": [
    "arr_ent"
   ]
  },
  {
   "cell_type": "code",
   "execution_count": 10,
   "id": "30a237f8",
   "metadata": {},
   "outputs": [
    {
     "data": {
      "text/plain": [
       "array([[11, 20, 38],\n",
       "       [65, 27, 28],\n",
       "       [45, 65, 34],\n",
       "       [37, 58, 74]])"
      ]
     },
     "execution_count": 10,
     "metadata": {},
     "output_type": "execute_result"
    }
   ],
   "source": [
    "arr_ent = arr_ent.reshape(4,3)\n",
    "arr_ent"
   ]
  },
  {
   "cell_type": "code",
   "execution_count": 11,
   "id": "10f135be",
   "metadata": {},
   "outputs": [],
   "source": [
    "#Flatten"
   ]
  },
  {
   "cell_type": "code",
   "execution_count": 12,
   "id": "8ea5fa06",
   "metadata": {},
   "outputs": [
    {
     "name": "stdout",
     "output_type": "stream",
     "text": [
      "[[11 20 38]\n",
      " [65 27 28]\n",
      " [45 65 34]\n",
      " [37 58 74]]\n",
      "[11 20 38 65 27 28 45 65 34 37 58 74]\n"
     ]
    }
   ],
   "source": [
    "plano_arr = arr_ent.flatten()\n",
    "\n",
    "print(arr_ent)\n",
    "print(plano_arr)"
   ]
  },
  {
   "cell_type": "code",
   "execution_count": 13,
   "id": "f0f0c8d1",
   "metadata": {},
   "outputs": [],
   "source": [
    "#To list"
   ]
  },
  {
   "cell_type": "code",
   "execution_count": 14,
   "id": "084e1199",
   "metadata": {},
   "outputs": [
    {
     "data": {
      "text/plain": [
       "list"
      ]
     },
     "execution_count": 14,
     "metadata": {},
     "output_type": "execute_result"
    }
   ],
   "source": [
    "lista_arr = plano_arr.tolist()\n",
    "lista_arr\n",
    "type(lista_arr)"
   ]
  },
  {
   "cell_type": "code",
   "execution_count": 15,
   "id": "37420c48",
   "metadata": {},
   "outputs": [],
   "source": [
    "#Separar y juntar arrays"
   ]
  },
  {
   "cell_type": "code",
   "execution_count": 16,
   "id": "8b048bfc",
   "metadata": {},
   "outputs": [
    {
     "data": {
      "text/plain": [
       "[array([[11, 20, 38]]),\n",
       " array([[65, 27, 28]]),\n",
       " array([[45, 65, 34]]),\n",
       " array([[37, 58, 74]])]"
      ]
     },
     "execution_count": 16,
     "metadata": {},
     "output_type": "execute_result"
    }
   ],
   "source": [
    "arrays= np.split(arr_ent, 4)\n",
    "arrays"
   ]
  },
  {
   "cell_type": "code",
   "execution_count": 17,
   "id": "9085bc9e",
   "metadata": {},
   "outputs": [
    {
     "data": {
      "text/plain": [
       "array([[65, 27, 28],\n",
       "       [11, 20, 38]])"
      ]
     },
     "execution_count": 17,
     "metadata": {},
     "output_type": "execute_result"
    }
   ],
   "source": [
    "np.concatenate((arrays[1],arrays[0]),axis=0)"
   ]
  },
  {
   "cell_type": "code",
   "execution_count": 18,
   "id": "5e7a9b1c",
   "metadata": {},
   "outputs": [],
   "source": [
    "#La matriz transpuesta"
   ]
  },
  {
   "cell_type": "code",
   "execution_count": 19,
   "id": "c43e800a",
   "metadata": {},
   "outputs": [
    {
     "data": {
      "text/plain": [
       "array([[11, 20, 38],\n",
       "       [65, 27, 28],\n",
       "       [45, 65, 34],\n",
       "       [37, 58, 74]])"
      ]
     },
     "execution_count": 19,
     "metadata": {},
     "output_type": "execute_result"
    }
   ],
   "source": [
    "arr_ent"
   ]
  },
  {
   "cell_type": "code",
   "execution_count": null,
   "id": "b40338e9",
   "metadata": {},
   "outputs": [],
   "source": []
  }
 ],
 "metadata": {
  "kernelspec": {
   "display_name": "Python 3",
   "language": "python",
   "name": "python3"
  },
  "language_info": {
   "codemirror_mode": {
    "name": "ipython",
    "version": 3
   },
   "file_extension": ".py",
   "mimetype": "text/x-python",
   "name": "python",
   "nbconvert_exporter": "python",
   "pygments_lexer": "ipython3",
   "version": "3.8.8"
  }
 },
 "nbformat": 4,
 "nbformat_minor": 5
}
