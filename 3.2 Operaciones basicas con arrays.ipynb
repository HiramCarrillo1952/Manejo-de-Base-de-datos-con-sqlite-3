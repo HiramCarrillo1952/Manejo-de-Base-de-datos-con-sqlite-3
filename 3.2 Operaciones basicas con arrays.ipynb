{
 "cells": [
  {
   "cell_type": "code",
   "execution_count": 3,
   "id": "2b918746",
   "metadata": {},
   "outputs": [],
   "source": [
    "import numpy as np\n",
    "arr = np.arange(1,9)"
   ]
  },
  {
   "cell_type": "code",
   "execution_count": 4,
   "id": "dfcaf485",
   "metadata": {},
   "outputs": [
    {
     "data": {
      "text/plain": [
       "array([1, 2, 3, 4, 5, 6, 7, 8])"
      ]
     },
     "execution_count": 4,
     "metadata": {},
     "output_type": "execute_result"
    }
   ],
   "source": [
    "arr"
   ]
  },
  {
   "cell_type": "code",
   "execution_count": 5,
   "id": "fe8ac99b",
   "metadata": {},
   "outputs": [],
   "source": [
    "lista = [1,2,3,4,5,6,7,8]"
   ]
  },
  {
   "cell_type": "code",
   "execution_count": 6,
   "id": "acfb6eaa",
   "metadata": {},
   "outputs": [
    {
     "data": {
      "text/plain": [
       "array([[1, 2, 3, 4],\n",
       "       [5, 6, 7, 8]])"
      ]
     },
     "execution_count": 6,
     "metadata": {},
     "output_type": "execute_result"
    }
   ],
   "source": [
    "arr.shape = (2,4)\n",
    "arr"
   ]
  },
  {
   "cell_type": "code",
   "execution_count": 7,
   "id": "6d132176",
   "metadata": {},
   "outputs": [],
   "source": [
    "#Adición "
   ]
  },
  {
   "cell_type": "code",
   "execution_count": 8,
   "id": "d75feea6",
   "metadata": {},
   "outputs": [
    {
     "data": {
      "text/plain": [
       "array([[ 2,  4,  6,  8],\n",
       "       [10, 12, 14, 16]])"
      ]
     },
     "execution_count": 8,
     "metadata": {},
     "output_type": "execute_result"
    }
   ],
   "source": [
    "arr + arr #adicion"
   ]
  },
  {
   "cell_type": "code",
   "execution_count": 9,
   "id": "53ef54af",
   "metadata": {},
   "outputs": [
    {
     "data": {
      "text/plain": [
       "[1, 2, 3, 4, 5, 6, 7, 8, 1, 2, 3, 4, 5, 6, 7, 8]"
      ]
     },
     "execution_count": 9,
     "metadata": {},
     "output_type": "execute_result"
    }
   ],
   "source": [
    "lista + lista"
   ]
  },
  {
   "cell_type": "code",
   "execution_count": 10,
   "id": "45356ffb",
   "metadata": {},
   "outputs": [],
   "source": [
    "#Sustracción"
   ]
  },
  {
   "cell_type": "code",
   "execution_count": 11,
   "id": "12eee920",
   "metadata": {},
   "outputs": [
    {
     "data": {
      "text/plain": [
       "array([[0, 0, 0, 0],\n",
       "       [0, 0, 0, 0]])"
      ]
     },
     "execution_count": 11,
     "metadata": {},
     "output_type": "execute_result"
    }
   ],
   "source": [
    "arr - arr #sustraccion"
   ]
  },
  {
   "cell_type": "code",
   "execution_count": 12,
   "id": "ed8c68d7",
   "metadata": {},
   "outputs": [],
   "source": [
    "#Producto"
   ]
  },
  {
   "cell_type": "code",
   "execution_count": 13,
   "id": "359f08d4",
   "metadata": {},
   "outputs": [
    {
     "data": {
      "text/plain": [
       "array([[ 1,  4,  9, 16],\n",
       "       [25, 36, 49, 64]])"
      ]
     },
     "execution_count": 13,
     "metadata": {},
     "output_type": "execute_result"
    }
   ],
   "source": [
    "arr * arr #producto"
   ]
  },
  {
   "cell_type": "code",
   "execution_count": 14,
   "id": "0beef979",
   "metadata": {},
   "outputs": [],
   "source": [
    "#Exponenciación "
   ]
  },
  {
   "cell_type": "code",
   "execution_count": 15,
   "id": "ba67cd26",
   "metadata": {},
   "outputs": [
    {
     "data": {
      "text/plain": [
       "array([[       1,        4,       27,      256],\n",
       "       [    3125,    46656,   823543, 16777216]], dtype=int32)"
      ]
     },
     "execution_count": 15,
     "metadata": {},
     "output_type": "execute_result"
    }
   ],
   "source": [
    "arr ** arr #exponenciacion"
   ]
  },
  {
   "cell_type": "code",
   "execution_count": 16,
   "id": "349eacd7",
   "metadata": {},
   "outputs": [],
   "source": [
    "#División"
   ]
  },
  {
   "cell_type": "code",
   "execution_count": 17,
   "id": "0e9eab9a",
   "metadata": {},
   "outputs": [
    {
     "data": {
      "text/plain": [
       "array([[1., 1., 1., 1.],\n",
       "       [1., 1., 1., 1.]])"
      ]
     },
     "execution_count": 17,
     "metadata": {},
     "output_type": "execute_result"
    }
   ],
   "source": [
    "arr/arr #division"
   ]
  },
  {
   "cell_type": "code",
   "execution_count": null,
   "id": "81ba982d",
   "metadata": {},
   "outputs": [],
   "source": []
  }
 ],
 "metadata": {
  "kernelspec": {
   "display_name": "Python 3",
   "language": "python",
   "name": "python3"
  },
  "language_info": {
   "codemirror_mode": {
    "name": "ipython",
    "version": 3
   },
   "file_extension": ".py",
   "mimetype": "text/x-python",
   "name": "python",
   "nbconvert_exporter": "python",
   "pygments_lexer": "ipython3",
   "version": "3.8.8"
  }
 },
 "nbformat": 4,
 "nbformat_minor": 5
}
