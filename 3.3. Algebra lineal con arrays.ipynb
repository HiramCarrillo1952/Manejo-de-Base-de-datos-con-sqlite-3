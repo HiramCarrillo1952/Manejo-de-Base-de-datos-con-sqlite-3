{
 "cells": [
  {
   "cell_type": "code",
   "execution_count": 1,
   "id": "65505c40",
   "metadata": {},
   "outputs": [],
   "source": [
    "#Producto de arrays"
   ]
  },
  {
   "cell_type": "code",
   "execution_count": 2,
   "id": "7ebb4f4c",
   "metadata": {},
   "outputs": [
    {
     "data": {
      "text/plain": [
       "5.0"
      ]
     },
     "execution_count": 2,
     "metadata": {},
     "output_type": "execute_result"
    }
   ],
   "source": [
    "import numpy as np\n",
    "\n",
    "a = np.array([1,2,3], float)\n",
    "b = np.array([0,1,1], float)\n",
    "\n",
    "np.dot(b, a)"
   ]
  },
  {
   "cell_type": "code",
   "execution_count": 3,
   "id": "42d6d434",
   "metadata": {},
   "outputs": [
    {
     "data": {
      "text/plain": [
       "5.0"
      ]
     },
     "execution_count": 3,
     "metadata": {},
     "output_type": "execute_result"
    }
   ],
   "source": [
    "a.dot(b)"
   ]
  },
  {
   "cell_type": "code",
   "execution_count": 4,
   "id": "b4fe5b29",
   "metadata": {},
   "outputs": [],
   "source": [
    "#Productos de matrices"
   ]
  },
  {
   "cell_type": "code",
   "execution_count": 5,
   "id": "28ce3eed",
   "metadata": {},
   "outputs": [
    {
     "name": "stdout",
     "output_type": "stream",
     "text": [
      "[[5. 2.]\n",
      " [4. 8.]] \n",
      " ---------------\n",
      "[[2. 4.]\n",
      " [5. 3.]] \n",
      " ---------------\n"
     ]
    }
   ],
   "source": [
    "a = np.array([[5, 2], [4, 8]], float)\n",
    "b = np.array([[2, 4], [5, 3]], float)\n",
    "\n",
    "print(a, \"\\n ---------------\")\n",
    "print(b, \"\\n ---------------\")"
   ]
  },
  {
   "cell_type": "code",
   "execution_count": 6,
   "id": "8f0d204c",
   "metadata": {},
   "outputs": [
    {
     "data": {
      "text/plain": [
       "array([[20., 26.],\n",
       "       [48., 40.]])"
      ]
     },
     "execution_count": 6,
     "metadata": {},
     "output_type": "execute_result"
    }
   ],
   "source": [
    "np.dot(a, b)"
   ]
  },
  {
   "cell_type": "code",
   "execution_count": 7,
   "id": "d9c9e64e",
   "metadata": {},
   "outputs": [
    {
     "data": {
      "text/plain": [
       "array([[20., 26.],\n",
       "       [48., 40.]])"
      ]
     },
     "execution_count": 7,
     "metadata": {},
     "output_type": "execute_result"
    }
   ],
   "source": [
    "a @ b"
   ]
  },
  {
   "cell_type": "code",
   "execution_count": 8,
   "id": "93c1b252",
   "metadata": {},
   "outputs": [
    {
     "name": "stdout",
     "output_type": "stream",
     "text": [
      "[[0. 1. 4.]\n",
      " [5. 2. 3.]\n",
      " [1. 4. 8.]] \n",
      " ---------------\n",
      "[2. 3. 5.] \n",
      " ---------------\n"
     ]
    }
   ],
   "source": [
    "a = np.array([[0, 1, 4], [5, 2, 3], [1, 4, 8]], float)\n",
    "b = np.array([2, 3, 5], float)\n",
    "\n",
    "print(a, \"\\n ---------------\")\n",
    "print(b, \"\\n ---------------\")"
   ]
  },
  {
   "cell_type": "code",
   "execution_count": 9,
   "id": "2b8d06d5",
   "metadata": {},
   "outputs": [
    {
     "data": {
      "text/plain": [
       "array([23., 31., 54.])"
      ]
     },
     "execution_count": 9,
     "metadata": {},
     "output_type": "execute_result"
    }
   ],
   "source": [
    "np.dot(a, b)"
   ]
  },
  {
   "cell_type": "code",
   "execution_count": 10,
   "id": "1bc5d613",
   "metadata": {},
   "outputs": [
    {
     "data": {
      "text/plain": [
       "array([23., 31., 54.])"
      ]
     },
     "execution_count": 10,
     "metadata": {},
     "output_type": "execute_result"
    }
   ],
   "source": [
    "a @ b "
   ]
  },
  {
   "cell_type": "code",
   "execution_count": 11,
   "id": "6ef76410",
   "metadata": {},
   "outputs": [
    {
     "name": "stdout",
     "output_type": "stream",
     "text": [
      "[23. 31. 54.]\n"
     ]
    }
   ],
   "source": [
    "print(np.matmul(a, b))"
   ]
  },
  {
   "cell_type": "code",
   "execution_count": 12,
   "id": "ea58cf65",
   "metadata": {},
   "outputs": [],
   "source": [
    "#Determinante de una matriz"
   ]
  },
  {
   "cell_type": "code",
   "execution_count": 13,
   "id": "77401a99",
   "metadata": {},
   "outputs": [
    {
     "name": "stdout",
     "output_type": "stream",
     "text": [
      "[[8 5]\n",
      " [3 4]] \n",
      " ---------------\n"
     ]
    },
    {
     "data": {
      "text/plain": [
       "17.0"
      ]
     },
     "execution_count": 13,
     "metadata": {},
     "output_type": "execute_result"
    }
   ],
   "source": [
    "a = np.array([[8, 5], [3, 4]])\n",
    "\n",
    "print(a, \"\\n ---------------\")\n",
    "\n",
    "np.linalg.det(a)"
   ]
  },
  {
   "cell_type": "code",
   "execution_count": 14,
   "id": "e23e5bc8",
   "metadata": {},
   "outputs": [],
   "source": [
    "#Auto-valores y auto-vectores"
   ]
  },
  {
   "cell_type": "code",
   "execution_count": 15,
   "id": "93ecfb90",
   "metadata": {},
   "outputs": [
    {
     "name": "stdout",
     "output_type": "stream",
     "text": [
      "[10.35889894  1.64110106] \n",
      " ---------------\n",
      "[[ 0.90440309 -0.61810602]\n",
      " [ 0.4266791   0.78609474]] \n",
      " ---------------\n"
     ]
    }
   ],
   "source": [
    "vals, vecs = np.linalg.eig(a)\n",
    "\n",
    "print(vals, \"\\n ---------------\")\n",
    "print(vecs, \"\\n ---------------\")"
   ]
  },
  {
   "cell_type": "code",
   "execution_count": null,
   "id": "d4ba3923",
   "metadata": {},
   "outputs": [],
   "source": []
  }
 ],
 "metadata": {
  "kernelspec": {
   "display_name": "Python 3",
   "language": "python",
   "name": "python3"
  },
  "language_info": {
   "codemirror_mode": {
    "name": "ipython",
    "version": 3
   },
   "file_extension": ".py",
   "mimetype": "text/x-python",
   "name": "python",
   "nbconvert_exporter": "python",
   "pygments_lexer": "ipython3",
   "version": "3.8.8"
  }
 },
 "nbformat": 4,
 "nbformat_minor": 5
}
